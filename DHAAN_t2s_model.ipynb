{
 "cells": [
  {
   "cell_type": "markdown",
   "metadata": {},
   "source": [
    "# This code demonstrates the capability for doing the following:\n",
    "\n",
    "1. Text to audio Language conversion by converting a text in English to a speech in English"
   ]
  },
  {
   "cell_type": "code",
   "execution_count": 1,
   "metadata": {},
   "outputs": [
    {
     "name": "stdout",
     "output_type": "stream",
     "text": [
      "Requirement already satisfied: ibm_watson in c:\\users\\athinarb\\anaconda3\\lib\\site-packages (5.1.0)\n",
      "Requirement already satisfied: websocket-client==0.48.0 in c:\\users\\athinarb\\anaconda3\\lib\\site-packages (from ibm_watson) (0.48.0)\n",
      "Requirement already satisfied: requests<3.0,>=2.0 in c:\\users\\athinarb\\anaconda3\\lib\\site-packages (from ibm_watson) (2.24.0)\n",
      "Requirement already satisfied: python-dateutil>=2.5.3 in c:\\users\\athinarb\\anaconda3\\lib\\site-packages (from ibm_watson) (2.8.1)\n",
      "Requirement already satisfied: ibm-cloud-sdk-core>=3.3.6 in c:\\users\\athinarb\\anaconda3\\lib\\site-packages (from ibm_watson) (3.10.0)\n",
      "Requirement already satisfied: six in c:\\users\\athinarb\\anaconda3\\lib\\site-packages (from websocket-client==0.48.0->ibm_watson) (1.15.0)\n",
      "Requirement already satisfied: certifi>=2017.4.17 in c:\\users\\athinarb\\anaconda3\\lib\\site-packages (from requests<3.0,>=2.0->ibm_watson) (2020.6.20)\n",
      "Requirement already satisfied: chardet<4,>=3.0.2 in c:\\users\\athinarb\\anaconda3\\lib\\site-packages (from requests<3.0,>=2.0->ibm_watson) (3.0.4)\n",
      "Requirement already satisfied: urllib3!=1.25.0,!=1.25.1,<1.26,>=1.21.1 in c:\\users\\athinarb\\anaconda3\\lib\\site-packages (from requests<3.0,>=2.0->ibm_watson) (1.25.9)\n",
      "Requirement already satisfied: idna<3,>=2.5 in c:\\users\\athinarb\\anaconda3\\lib\\site-packages (from requests<3.0,>=2.0->ibm_watson) (2.10)\n",
      "Requirement already satisfied: PyJWT<3.0.0,>=2.0.1 in c:\\users\\athinarb\\anaconda3\\lib\\site-packages (from ibm-cloud-sdk-core>=3.3.6->ibm_watson) (2.1.0)\n",
      "Note: you may need to restart the kernel to use updated packages.\n"
     ]
    }
   ],
   "source": [
    "pip install ibm_watson\n"
   ]
  },
  {
   "cell_type": "code",
   "execution_count": 2,
   "metadata": {},
   "outputs": [
    {
     "name": "stdout",
     "output_type": "stream",
     "text": [
      "Requirement already satisfied: ibm_cloud_sdk_core in c:\\users\\athinarb\\anaconda3\\lib\\site-packages (3.10.0)\n",
      "Requirement already satisfied: requests<3.0,>=2.20 in c:\\users\\athinarb\\anaconda3\\lib\\site-packages (from ibm_cloud_sdk_core) (2.24.0)\n",
      "Requirement already satisfied: python-dateutil<3.0.0,>=2.5.3 in c:\\users\\athinarb\\anaconda3\\lib\\site-packages (from ibm_cloud_sdk_core) (2.8.1)\n",
      "Requirement already satisfied: PyJWT<3.0.0,>=2.0.1 in c:\\users\\athinarb\\anaconda3\\lib\\site-packages (from ibm_cloud_sdk_core) (2.1.0)\n",
      "Requirement already satisfied: urllib3!=1.25.0,!=1.25.1,<1.26,>=1.21.1 in c:\\users\\athinarb\\anaconda3\\lib\\site-packages (from requests<3.0,>=2.20->ibm_cloud_sdk_core) (1.25.9)\n",
      "Requirement already satisfied: certifi>=2017.4.17 in c:\\users\\athinarb\\anaconda3\\lib\\site-packages (from requests<3.0,>=2.20->ibm_cloud_sdk_core) (2020.6.20)\n",
      "Requirement already satisfied: chardet<4,>=3.0.2 in c:\\users\\athinarb\\anaconda3\\lib\\site-packages (from requests<3.0,>=2.20->ibm_cloud_sdk_core) (3.0.4)\n",
      "Requirement already satisfied: idna<3,>=2.5 in c:\\users\\athinarb\\anaconda3\\lib\\site-packages (from requests<3.0,>=2.20->ibm_cloud_sdk_core) (2.10)\n",
      "Requirement already satisfied: six>=1.5 in c:\\users\\athinarb\\anaconda3\\lib\\site-packages (from python-dateutil<3.0.0,>=2.5.3->ibm_cloud_sdk_core) (1.15.0)\n",
      "Note: you may need to restart the kernel to use updated packages.\n"
     ]
    }
   ],
   "source": [
    "pip install ibm_cloud_sdk_core\n"
   ]
  },
  {
   "cell_type": "code",
   "execution_count": 3,
   "metadata": {},
   "outputs": [],
   "source": [
    "from ibm_watson import TextToSpeechV1"
   ]
  },
  {
   "cell_type": "code",
   "execution_count": 4,
   "metadata": {},
   "outputs": [],
   "source": [
    "from ibm_cloud_sdk_core.authenticators import IAMAuthenticator"
   ]
  },
  {
   "cell_type": "code",
   "execution_count": 5,
   "metadata": {},
   "outputs": [],
   "source": [
    "apiKey = IAMAuthenticator(\"gQMWPvSP6NyU03qpufv2f6FyEEX4jYK4jVipQodbYqe2\")"
   ]
  },
  {
   "cell_type": "code",
   "execution_count": 6,
   "metadata": {},
   "outputs": [],
   "source": [
    "t2s = TextToSpeechV1(authenticator=apiKey)"
   ]
  },
  {
   "cell_type": "code",
   "execution_count": 7,
   "metadata": {},
   "outputs": [],
   "source": [
    "t2s.set_service_url(\"https://api.eu-gb.text-to-speech.watson.cloud.ibm.com/instances/ae3533a6-4455-47fc-9e5f-e12952472aab\")"
   ]
  },
  {
   "cell_type": "code",
   "execution_count": 8,
   "metadata": {},
   "outputs": [],
   "source": [
    "with open (\"welcome.mp3\", \"wb\") as audiofile:\n",
    "    audiofile.write(\n",
    "    t2s.synthesize(\"Hello! Welcome to DHAAN\", \n",
    "                   accept=\"audio/mp3\").get_result().content\n",
    "    )"
   ]
  },
  {
   "cell_type": "code",
   "execution_count": null,
   "metadata": {},
   "outputs": [],
   "source": []
  }
 ],
 "metadata": {
  "kernelspec": {
   "display_name": "Python 3",
   "language": "python",
   "name": "python3"
  },
  "language_info": {
   "codemirror_mode": {
    "name": "ipython",
    "version": 3
   },
   "file_extension": ".py",
   "mimetype": "text/x-python",
   "name": "python",
   "nbconvert_exporter": "python",
   "pygments_lexer": "ipython3",
   "version": "3.8.3"
  }
 },
 "nbformat": 4,
 "nbformat_minor": 4
}
